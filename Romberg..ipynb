{
 "cells": [
  {
   "cell_type": "code",
   "execution_count": 15,
   "metadata": {},
   "outputs": [
    {
     "name": "stdout",
     "output_type": "stream",
     "text": [
      "[[373.53289776   0.           0.        ]\n",
      " [217.22268378 289.63024504   0.        ]\n",
      " [166.12562309 124.95741577 133.28791015]]\n"
     ]
    }
   ],
   "source": [
    "import numpy as np\n",
    "\n",
    "def f(x):\n",
    "    return np.exp(x)\n",
    "\n",
    "#Trapezoid Rule\n",
    "def trapezoidrule(a,b,n):\n",
    "    h = (b-a)/n\n",
    "    s = 0 \n",
    "    for i in range(n-1):\n",
    "        s+=f(a+h*(i+1))\n",
    "    return h/2*(f(a) + 2*s + f(b))\n",
    "\n",
    "order = 3\n",
    "#create a matrix of zeros size order X order\n",
    "\n",
    "rom = np.zeros((order, order))\n",
    "# trapezoid for first column\n",
    "for i in range(order):\n",
    "    rom[i, 0] = trapezoidrule(0,5,2**i)\n",
    "\n",
    "for i in np.arange(1, order):\n",
    "    for j in np.arange(i, order):\n",
    "        rom[j,i] = rom[j, i-1] + (rom[j,i-1]-rom[j-1,i])/(4**i -1)\n",
    "\n",
    "print(rom)"
   ]
  },
  {
   "cell_type": "code",
   "execution_count": null,
   "metadata": {},
   "outputs": [],
   "source": [
    "import numpy as np\n",
    "\n",
    "def f(x):\n",
    "    return np.exp(x)\n",
    "\n",
    "def trapezoidrule(a,b,n):\n",
    "    h = (b-a)/n\n",
    "    s = 0 \n",
    "    for i in range(n-1):\n",
    "        s+=f(a+h*(i+1))\n",
    "    return h/2*(f(a) + 2*s + f(b))\n",
    "\n",
    "def romberg(k,j,a,b):\n",
    "    \n",
    "\n",
    "order = 3 #How many slices\n",
    "\n",
    "#create a matrix of zeros size order X order\n",
    "rom = np.zeros((order, order))\n",
    "\n",
    "# trapezoid for first column\n",
    "for i in range(order):\n",
    "    rom[i, 0] = trapezoidrule(0,5,2**i)\n",
    "\n",
    "for i in np.arange(1, order):\n",
    "    for j in np.arange(i, order):\n",
    "        rom[j,i] = rom[j, i-1] + (rom[j,i-1]-rom[j-1,i])/(4**i -1)\n",
    "\n",
    "print(rom)"
   ]
  },
  {
   "cell_type": "markdown",
   "metadata": {},
   "source": [
    "Exercise 5.7 Newmann"
   ]
  },
  {
   "cell_type": "code",
   "execution_count": null,
   "metadata": {},
   "outputs": [],
   "source": [
    "import numpy as np\n",
    "\n",
    "def f(x):\n",
    "    return (np.sin(np.sqrt(100*x)))**2\n",
    "\n",
    "#Trapezoid Rule\n",
    "def trapezoidrule(a,b,n):\n",
    "    h = (b-a)/n\n",
    "    s = 0 \n",
    "    for i in range(n-1):\n",
    "        s+=f(a+h*(i+1))\n",
    "    return h/2*(f(a) + 2*s + f(b))\n",
    "\n",
    "order = 3\n",
    "#create a matrix of zeros size order X order\n",
    "\n",
    "rom = np.zeros((order, order))\n",
    "# trapezoid for first column\n",
    "for i in range(order):\n",
    "    rom[i, 0] = trapezoidrule(0,5,2**i)\n",
    "\n",
    "for i in np.arange(1, order):\n",
    "    for j in np.arange(i, order):\n",
    "        rom[j,i] = rom[j, i-1] + (rom[j,i-1]-rom[j-1,i])/(4**i -1)\n",
    "\n",
    "print(rom)"
   ]
  }
 ],
 "metadata": {
  "interpreter": {
   "hash": "fe44fef87f92f48a3a32707d0df204585f471652bc0ce87358a3ce712bc24db0"
  },
  "kernelspec": {
   "display_name": "Python 3.9.7 64-bit",
   "name": "python3"
  },
  "language_info": {
   "codemirror_mode": {
    "name": "ipython",
    "version": 3
   },
   "file_extension": ".py",
   "mimetype": "text/x-python",
   "name": "python",
   "nbconvert_exporter": "python",
   "pygments_lexer": "ipython3",
   "version": "3.9.7"
  },
  "orig_nbformat": 4
 },
 "nbformat": 4,
 "nbformat_minor": 2
}
