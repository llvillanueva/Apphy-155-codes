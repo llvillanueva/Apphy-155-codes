{
 "cells": [
  {
   "cell_type": "markdown",
   "id": "b6db7caa-60e1-48ea-84b3-8803ef7f1674",
   "metadata": {},
   "source": [
    "Variable Types:"
   ]
  },
  {
   "cell_type": "markdown",
   "metadata": {},
   "source": [
    "Integers - Numbers that are not fraction"
   ]
  },
  {
   "cell_type": "markdown",
   "metadata": {},
   "source": [
    "Floting Point Numbers - numbers have decimal part"
   ]
  },
  {
   "cell_type": "markdown",
   "metadata": {},
   "source": [
    "Complex Numbers - contain imaginary number \"j\""
   ]
  },
  {
   "cell_type": "markdown",
   "metadata": {},
   "source": [
    "Strings - alphanumeric "
   ]
  },
  {
   "cell_type": "markdown",
   "metadata": {},
   "source": [
    "Boolean - True (or 1) or False (or 0)"
   ]
  },
  {
   "cell_type": "code",
   "execution_count": 9,
   "id": "27814b80-14b0-4ef5-8557-82b8d55f7e4d",
   "metadata": {},
   "outputs": [
    {
     "name": "stdout",
     "output_type": "stream",
     "text": [
      "Sum of x and y:\n",
      "-1\n",
      "Product of x and y\n",
      "-12\n"
     ]
    }
   ],
   "source": [
    "#Integer Declaration\n",
    "\n",
    "x = 3 \n",
    "y = -4 #Unlike C/C++, in python we don't need to specify the data types of the variables\n",
    "\n",
    "print(\"Sum of x and y:\")\n",
    "print(x+y) # + is the symbol for addition\n",
    "\n",
    "print(\"Product of x and y\")\n",
    "print(x*y) #* is the symbol for multiplication"
   ]
  },
  {
   "cell_type": "code",
   "execution_count": 10,
   "id": "ba642429-8e5b-4c24-bc09-9613cd3ae0eb",
   "metadata": {},
   "outputs": [
    {
     "name": "stdout",
     "output_type": "stream",
     "text": [
      "Sum of x and y:\n",
      "3.2670000000000003\n",
      "Product of x and y\n",
      "2.5361900000000004\n"
     ]
    }
   ],
   "source": [
    "#Floating Point declaration\n",
    "\n",
    "x = 1.27\n",
    "y = 1.997\n",
    "\n",
    "print(\"Sum of x and y:\")\n",
    "print(x+y) # + is the symbol for addition\n",
    "\n",
    "print(\"Product of x and y\")\n",
    "print(x*y) #* is the symbol for multiplication"
   ]
  },
  {
   "cell_type": "code",
   "execution_count": 11,
   "id": "f34867a4-54ec-4b99-ad77-46c5492826ce",
   "metadata": {},
   "outputs": [
    {
     "name": "stdout",
     "output_type": "stream",
     "text": [
      "1.0\n"
     ]
    }
   ],
   "source": [
    "\n",
    "#Floating point can be integer\n",
    "\n",
    "x = 1.0\n",
    "print(x)"
   ]
  },
  {
   "cell_type": "code",
   "execution_count": 12,
   "id": "48391358-580b-4a7e-bcc9-112d6fb6afbe",
   "metadata": {},
   "outputs": [
    {
     "name": "stdout",
     "output_type": "stream",
     "text": [
      "Concatenation of string x and string y: \n",
      "string1string2\n"
     ]
    }
   ],
   "source": [
    "#string declaration\n",
    "\n",
    "x = \"string1\"\n",
    "y = 'string2'\n",
    "\n",
    "print(\"Concatenation of string x and string y: \") #add \\ if you want to incorporate quotation mark\n",
    "print(x+y)"
   ]
  },
  {
   "cell_type": "code",
   "execution_count": 13,
   "id": "aa49d88a-e935-4010-a3ec-72c4face8ef0",
   "metadata": {},
   "outputs": [
    {
     "name": "stdout",
     "output_type": "stream",
     "text": [
      "True\n",
      "False\n"
     ]
    }
   ],
   "source": [
    "#Boolean declaration\n",
    "\n",
    "x = True\n",
    "y = False\n",
    "\n",
    "print(x)\n",
    "print(y)"
   ]
  },
  {
   "cell_type": "markdown",
   "id": "2a2994a2-c745-4be6-b60c-bba51cba5458",
   "metadata": {
    "jupyter": {
     "source_hidden": true
    },
    "tags": []
   },
   "source": [
    "Note:\n",
    "\n",
    "-Integers can only hold values until the decimal point. Can't take fractional value.\n",
    "\n",
    "-Floating point numbers can take on decimal values\n",
    "\n",
    "-Strings is considered as a text. Can take alphanumeric values. \n",
    "\n",
    "-Operating between strings (e.g. a = \"3.5\") and integer/float (e.g. b=3) is not allowed (will result to error)."
   ]
  },
  {
   "cell_type": "code",
   "execution_count": 14,
   "id": "4518d478-45a4-4463-b48e-3678d3e29ef2",
   "metadata": {},
   "outputs": [
    {
     "name": "stdout",
     "output_type": "stream",
     "text": [
      "0\n",
      "1\n",
      "2\n",
      "3\n",
      "4\n",
      "0\n",
      "1\n",
      "2\n",
      "3\n",
      "4\n"
     ]
    }
   ],
   "source": [
    "# Certain function takes only a specific variable type \n",
    "# 1. Range function - takes only integer\n",
    "\n",
    "x = 5 \n",
    "y = 5.0\n",
    "\n",
    "for z in range(x):\n",
    "    print(z)\n",
    "for z in range(x):\n",
    "    print(z)"
   ]
  },
  {
   "cell_type": "code",
   "execution_count": 15,
   "id": "a028cf9e-a6d4-4b14-ab5c-dc64e77eab88",
   "metadata": {},
   "outputs": [
    {
     "data": {
      "text/plain": [
       "12"
      ]
     },
     "execution_count": 15,
     "metadata": {},
     "output_type": "execute_result"
    }
   ],
   "source": [
    "# 2. length (len) function - takes only string\n",
    "\n",
    "x = \"Leni Robredo\"\n",
    "len(x)\n",
    "\n",
    "# CONSULT THE DOCUMENTATION For specific function"
   ]
  },
  {
   "cell_type": "code",
   "execution_count": 16,
   "id": "e58d3fd9-5f16-40b6-8388-e74c80f0b141",
   "metadata": {},
   "outputs": [
    {
     "ename": "TypeError",
     "evalue": "object of type 'int' has no len()",
     "output_type": "error",
     "traceback": [
      "\u001b[1;31m---------------------------------------------------------------------------\u001b[0m",
      "\u001b[1;31mTypeError\u001b[0m                                 Traceback (most recent call last)",
      "\u001b[1;32m~\\AppData\\Local\\Temp/ipykernel_22856/1686271684.py\u001b[0m in \u001b[0;36m<module>\u001b[1;34m\u001b[0m\n\u001b[0;32m      1\u001b[0m \u001b[0my\u001b[0m \u001b[1;33m=\u001b[0m \u001b[1;36m5\u001b[0m\u001b[1;33m\u001b[0m\u001b[1;33m\u001b[0m\u001b[0m\n\u001b[1;32m----> 2\u001b[1;33m \u001b[0mlen\u001b[0m\u001b[1;33m(\u001b[0m\u001b[0my\u001b[0m\u001b[1;33m)\u001b[0m\u001b[1;33m\u001b[0m\u001b[1;33m\u001b[0m\u001b[0m\n\u001b[0m\u001b[0;32m      3\u001b[0m \u001b[1;33m\u001b[0m\u001b[0m\n\u001b[0;32m      4\u001b[0m \u001b[1;31m# error is due to the data type inputted in len function\u001b[0m\u001b[1;33m\u001b[0m\u001b[1;33m\u001b[0m\u001b[0m\n\u001b[0;32m      5\u001b[0m \u001b[1;31m# CONSULT THE DOCUMENTATION For specific function\u001b[0m\u001b[1;33m\u001b[0m\u001b[1;33m\u001b[0m\u001b[0m\n",
      "\u001b[1;31mTypeError\u001b[0m: object of type 'int' has no len()"
     ]
    }
   ],
   "source": [
    "y = 5\n",
    "len(y)\n",
    "\n",
    "# error is due to the data type inputted in len function\n",
    "# CONSULT THE DOCUMENTATION For specific function"
   ]
  },
  {
   "cell_type": "code",
   "execution_count": null,
   "metadata": {},
   "outputs": [],
   "source": []
  }
 ],
 "metadata": {
  "interpreter": {
   "hash": "fe44fef87f92f48a3a32707d0df204585f471652bc0ce87358a3ce712bc24db0"
  },
  "kernelspec": {
   "display_name": "Python 3.9.7 64-bit",
   "name": "python3"
  },
  "language_info": {
   "codemirror_mode": {
    "name": "ipython",
    "version": 3
   },
   "file_extension": ".py",
   "mimetype": "text/x-python",
   "name": "python",
   "nbconvert_exporter": "python",
   "pygments_lexer": "ipython3",
   "version": "3.9.7"
  }
 },
 "nbformat": 4,
 "nbformat_minor": 5
}
