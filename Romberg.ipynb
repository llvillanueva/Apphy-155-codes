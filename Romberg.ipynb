{
 "cells": [
  {
   "cell_type": "markdown",
   "metadata": {},
   "source": [
    "Import necessary package"
   ]
  },
  {
   "cell_type": "code",
   "execution_count": 17,
   "metadata": {},
   "outputs": [],
   "source": [
    "import numpy as np"
   ]
  },
  {
   "cell_type": "markdown",
   "metadata": {},
   "source": [
    "Define the function that you want to integrate"
   ]
  },
  {
   "cell_type": "code",
   "execution_count": 18,
   "metadata": {},
   "outputs": [],
   "source": [
    "def f(x):\n",
    "    return np.exp(-x**2)"
   ]
  },
  {
   "cell_type": "markdown",
   "metadata": {},
   "source": [
    "Function for trapezoid rule"
   ]
  },
  {
   "cell_type": "code",
   "execution_count": 19,
   "metadata": {},
   "outputs": [],
   "source": [
    "def trapezoidrule(a,b,n):\n",
    "    h = (b-a)/n\n",
    "    s = 0 \n",
    "    if n>1:\n",
    "        for i in range(n-1):\n",
    "            s+=f(a+h*(i+1))\n",
    "    return h/2*(f(a) + 2*s + f(b))"
   ]
  },
  {
   "cell_type": "markdown",
   "metadata": {},
   "source": [
    "Create a matrix/lists/array where we can store the Rombergs values"
   ]
  },
  {
   "cell_type": "code",
   "execution_count": 20,
   "metadata": {},
   "outputs": [],
   "source": [
    "order = 6 \n",
    "rom = np.zeros((order, order))"
   ]
  },
  {
   "cell_type": "markdown",
   "metadata": {},
   "source": [
    "Trapezoid for first column #See the 2nd reference"
   ]
  },
  {
   "cell_type": "code",
   "execution_count": 21,
   "metadata": {},
   "outputs": [],
   "source": [
    "for i in range(order):\n",
    "    rom[i, 0] = trapezoidrule(0,1,2**i)"
   ]
  },
  {
   "cell_type": "markdown",
   "metadata": {},
   "source": [
    "Implementing General Romberg Formula"
   ]
  },
  {
   "cell_type": "code",
   "execution_count": 22,
   "metadata": {},
   "outputs": [],
   "source": [
    "for i in np.arange(1, order):\n",
    "    for j in np.arange(i, order):\n",
    "        rom[j,i] = rom[j, i-1] + (rom[j,i-1]-rom[j-1,i-1])/(4**i -1)"
   ]
  },
  {
   "cell_type": "markdown",
   "metadata": {},
   "source": [
    "Printing the Matrix"
   ]
  },
  {
   "cell_type": "code",
   "execution_count": 23,
   "metadata": {},
   "outputs": [
    {
     "name": "stdout",
     "output_type": "stream",
     "text": [
      "[[0.68393972 0.         0.         0.         0.         0.        ]\n",
      " [0.73137025 0.74718043 0.         0.         0.         0.        ]\n",
      " [0.7429841  0.74685538 0.74683371 0.         0.         0.        ]\n",
      " [0.74586561 0.74682612 0.74682417 0.74682402 0.         0.        ]\n",
      " [0.7465846  0.74682426 0.74682413 0.74682413 0.74682413 0.        ]\n",
      " [0.74676425 0.74682414 0.74682413 0.74682413 0.74682413 0.74682413]]\n"
     ]
    }
   ],
   "source": [
    "print(rom) #See the first reference to compare the result"
   ]
  },
  {
   "cell_type": "markdown",
   "metadata": {},
   "source": [
    "References for Romberg Method\n",
    "\n",
    "-https://towardsdatascience.com/numerical-integration-romberg-integration-3f54002ab538\n",
    "\n",
    "-https://towardsdatascience.com/numerical-integration-romberg-integration-3f54002ab538"
   ]
  }
 ],
 "metadata": {
  "interpreter": {
   "hash": "fe44fef87f92f48a3a32707d0df204585f471652bc0ce87358a3ce712bc24db0"
  },
  "kernelspec": {
   "display_name": "Python 3.9.7 64-bit",
   "name": "python3"
  },
  "language_info": {
   "codemirror_mode": {
    "name": "ipython",
    "version": 3
   },
   "file_extension": ".py",
   "mimetype": "text/x-python",
   "name": "python",
   "nbconvert_exporter": "python",
   "pygments_lexer": "ipython3",
   "version": "3.9.7"
  },
  "orig_nbformat": 4
 },
 "nbformat": 4,
 "nbformat_minor": 2
}
