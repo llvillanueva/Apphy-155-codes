import numpy as np

def f(x):
    return (np.sin(np.sqrt(100*x)))**2

#Trapezoid Rule
def trapezoidrule(a,b,n):
    h = (b-a)/n
    s = 0 
    for i in range(n-1):
        s+=f(a+h*(i+1))
    return h/2*(f(a) + 2*s + f(b))

order = 3
#create a matrix of zeros size order X order

rom = np.zeros((order, order))
# trapezoid for first column
for i in range(order):
    rom[i, 0] = trapezoidrule(0,5,2**i)

for i in np.arange(1, order):
    for j in np.arange(i, order):
        rom[j,i] = rom[j, i-1] + (rom[j,i-1]-rom[j-1,i])/(4**i -1)

print(rom)